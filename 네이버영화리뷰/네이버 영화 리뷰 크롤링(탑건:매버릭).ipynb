{
 "cells": [
  {
   "cell_type": "code",
   "execution_count": 1,
   "metadata": {},
   "outputs": [
    {
     "name": "stdout",
     "output_type": "stream",
     "text": [
      "<Response [200]>\n"
     ]
    }
   ],
   "source": [
    "# requests 패키지 불러오기 (pip install requests 설치 필요)\n",
    "import requests\n",
    "\n",
    "# 네이버 영화 사이트 - 탑건: 매버릭 리뷰 페이지 \n",
    "url = \"https://movie.naver.com/movie/bi/mi/review.naver?code=81888\"\n",
    "\n",
    "# requests.get\n",
    "resp = requests.get(url)\n",
    "print(resp)"
   ]
  },
  {
   "cell_type": "code",
   "execution_count": 2,
   "metadata": {},
   "outputs": [
    {
     "name": "stdout",
     "output_type": "stream",
     "text": [
      "<class 'bs4.BeautifulSoup'>\n"
     ]
    }
   ],
   "source": [
    "# BeautifulSoup 함수 불러오기 (pip install bs4 설치 필요)  \n",
    "from bs4 import BeautifulSoup \n",
    "\n",
    "# BeautifulSoup 함수로, HTML 문서 구조를 파싱 \n",
    "soup = BeautifulSoup(resp.text, 'html.parser')\n",
    "\n",
    "# 파싱한 내용을 담고 있는 객체의 자료형 확인\n",
    "print(type(soup))"
   ]
  },
  {
   "attachments": {},
   "cell_type": "markdown",
   "metadata": {},
   "source": [
    "### 1) 영화제목"
   ]
  },
  {
   "cell_type": "code",
   "execution_count": 3,
   "metadata": {},
   "outputs": [
    {
     "name": "stdout",
     "output_type": "stream",
     "text": [
      "<title>탑건: 매버릭 : 네이버 영화</title>\n",
      "탑건: 매버릭 : 네이버 영화\n"
     ]
    }
   ],
   "source": [
    "# <title>탑건: 매버릭 : 네이버 영화</title>\n",
    "\n",
    "# title 태그 이름을 활용하여 영화 제목이 포함되어 있는 요소를 찾습니다.\n",
    "title_tag = soup.find(name='title')\n",
    "print(title_tag)\n",
    "\n",
    "# 텍스트 부분만 추출합니다.\n",
    "title_text = title_tag.get_text()\n",
    "print(title_text)"
   ]
  },
  {
   "attachments": {},
   "cell_type": "markdown",
   "metadata": {},
   "source": [
    "### 2) 리뷰 갯수"
   ]
  },
  {
   "cell_type": "code",
   "execution_count": 4,
   "metadata": {},
   "outputs": [
    {
     "name": "stdout",
     "output_type": "stream",
     "text": [
      "span 태그:  <span class=\"cnt\">총<em>107</em>건</span>\n",
      "em 태그:  <em>107</em>\n",
      "텍스트:  107\n"
     ]
    }
   ],
   "source": [
    "# <span class=\"cnt\">총<em>110</em>건</span>\n",
    "\n",
    "# span 태그의 class 속성값을 활용하여 리뷰 갯수가 포함되어 있는 요소를 찾습니다.\n",
    "count_tag = soup.find(name='span', attrs={'class':'cnt'})\n",
    "print(\"span 태그: \", count_tag)\n",
    "\n",
    "# count_tag 요소에서 em 태그 부분을 찾습니다. \n",
    "count_tag = count_tag.find(name='em')\n",
    "print(\"em 태그: \", count_tag)\n",
    "\n",
    "# 텍스트 부분만 추출합니다.\n",
    "count_text = count_tag.get_text()\n",
    "print(\"텍스트: \", count_text)"
   ]
  },
  {
   "attachments": {},
   "cell_type": "markdown",
   "metadata": {},
   "source": [
    "### 3) 리뷰 목록"
   ]
  },
  {
   "cell_type": "code",
   "execution_count": 5,
   "metadata": {},
   "outputs": [
    {
     "name": "stdout",
     "output_type": "stream",
     "text": [
      "li 태그의 수:  10\n",
      "\n",
      "\n",
      "<li>\n",
      "<a href=\"#\" onclick=\"clickcr(this, 'rli.title', '', '', event); showReviewDetail(4808692)\"><strong>탑건: 매버릭 (Top Gun: Maverick) 후기와 비하인드</strong></a>\n",
      "<span class=\"user\"><a href=\"#\" onclick=\"clickcr(this, 'rli.uid', '', '', event); showReviewListByNid('4808692');\">myte****</a> <em>2022.06.14</em><em>추천 6</em></span>\n",
      "<p><a href=\"#\" onclick=\"clickcr(this, 'rli.content', '', '', event); showReviewDetail(4808692);\">       탑건: 매버릭      감독   조셉 코신스키   출연   톰 크루즈, 제니퍼 코넬리, 마일즈 텔러   개봉   2022.06.22. 미국   평점                        리뷰보기       이 영화를 2주 전에 봤는데 이래저래 결혼식 준비로 바빠서이...</a></p>\n",
      "</li>\n"
     ]
    }
   ],
   "source": [
    "# <ul class=\"rvw_list_area\">\n",
    "\n",
    "# ul 태그의 class 속성값을 활용하여 리뷰 제목과 링크가 포함되어 있는 요소를 찾습니다.\n",
    "review_list_tag = soup.find(name='ul', attrs={'class':'rvw_list_area'})\n",
    "\n",
    "# review_list_tag 요소에 포함된 li 태그를 모두 찾습니다. \n",
    "review_list_tags = review_list_tag.find_all(name='li')\n",
    "print(\"li 태그의 수: \", len(review_list_tags))\n",
    "print(\"\\n\")\n",
    "\n",
    "# 첫 번째 원소를 출력합니다. \n",
    "print(review_list_tags[0])"
   ]
  },
  {
   "cell_type": "code",
   "execution_count": 6,
   "metadata": {},
   "outputs": [
    {
     "name": "stdout",
     "output_type": "stream",
     "text": [
      "제목: 탑건: 매버릭 (Top Gun: Maverick) 후기와 비하인드 \n",
      "\n",
      "사용자: myte**** \n",
      "\n",
      "내용:        탑건: 매버릭      감독   조셉 코신스키   출연   톰 크루즈, 제니퍼 코넬리, 마일즈 텔러   개봉   2022.06.22. 미국   평점                        리뷰보기       이 영화를 2주 전에 봤는데 이래저래 결혼식 준비로 바빠서이... \n",
      "\n"
     ]
    }
   ],
   "source": [
    "# 첫 번째 아이템에서 리뷰 제목(rli.title), 사용자(rli.uid), 내용(rli.content) 데이터를 추출합니다.\n",
    "\n",
    "review_title = review_list_tags[0].find_all('a')[0].get_text()\n",
    "print(\"제목:\", review_title, \"\\n\")\n",
    "\n",
    "review_uid = review_list_tags[0].find_all('a')[1].get_text()\n",
    "print(\"사용자:\", review_uid, \"\\n\")\n",
    "\n",
    "review_content = review_list_tags[0].find_all('a')[2].get_text()\n",
    "print(r\"내용:\", review_content, \"\\n\")"
   ]
  },
  {
   "cell_type": "code",
   "execution_count": 7,
   "metadata": {},
   "outputs": [
    {
     "data": {
      "text/plain": [
       "\"clickcr(this, 'rli.title', '', '', event); showReviewDetail(4808692)\""
      ]
     },
     "execution_count": 7,
     "metadata": {},
     "output_type": "execute_result"
    }
   ],
   "source": [
    "# 각 리뷰 페이지로 연결할 nid 값(예: 4808692)을 포함하는 Javascript 코드를 추출합니다.\n",
    "\n",
    "review_nid = review_list_tags[0].find('a').get('onclick')\n",
    "review_nid"
   ]
  },
  {
   "cell_type": "code",
   "execution_count": 8,
   "metadata": {},
   "outputs": [
    {
     "data": {
      "text/plain": [
       "'4808692'"
      ]
     },
     "execution_count": 8,
     "metadata": {},
     "output_type": "execute_result"
    }
   ],
   "source": [
    "# Javascript 코드에서 7자리 숫자를 추출합니다. (정규식 re 모듈 활용)\n",
    "\n",
    "import re\n",
    "\n",
    "review_nid = re.findall('\\d{7}', review_nid)[0]\n",
    "review_nid"
   ]
  },
  {
   "cell_type": "code",
   "execution_count": 9,
   "metadata": {},
   "outputs": [
    {
     "data": {
      "text/plain": [
       "'https://movie.naver.com/movie/bi/mi/reviewread.naver?nid=4808692&code=81888&order=#tab'"
      ]
     },
     "execution_count": 9,
     "metadata": {},
     "output_type": "execute_result"
    }
   ],
   "source": [
    "# URL을 조합합니다.  \n",
    "# 예시: https://movie.naver.com/movie/bi/mi/reviewread.naver?nid=4808973&code=81888&order=#tab\n",
    "\n",
    "review_url = f\"https://movie.naver.com/movie/bi/mi/reviewread.naver?nid={review_nid}&code=81888&order=#tab\"\n",
    "review_url"
   ]
  },
  {
   "cell_type": "code",
   "execution_count": 10,
   "metadata": {},
   "outputs": [
    {
     "name": "stdout",
     "output_type": "stream",
     "text": [
      "10\n",
      "10\n",
      "10\n"
     ]
    }
   ],
   "source": [
    "# 10개의 리뷰를 반복문으로 조회하면서, 리뷰 제목(rli.title), 사용자(rli.uid), 상세 페이지 url 값을 추출합니다.\n",
    "title_list = []\n",
    "uid_list = []\n",
    "url_list = []\n",
    "\n",
    "for li_tag in review_list_tags:\n",
    "    \n",
    "    review_title = li_tag.find_all('a')[0].get_text()\n",
    "    title_list.append(review_title)\n",
    "    \n",
    "    review_uid = li_tag.find_all('a')[1].get_text()\n",
    "    uid_list.append(review_uid)\n",
    "    \n",
    "    review_nid = re.findall('\\d{7}', li_tag.find('a').get('onclick'))[0]\n",
    "    review_url = f\"https://movie.naver.com/movie/bi/mi/reviewread.naver?nid={review_nid}&code=81888&order=#tab\"\n",
    "    url_list.append(review_url)    \n",
    "    \n",
    "# 추출된 아이템의 수량\n",
    "print(len(title_list))\n",
    "print(len(uid_list))\n",
    "print(len(url_list))"
   ]
  },
  {
   "cell_type": "code",
   "execution_count": 11,
   "metadata": {},
   "outputs": [
    {
     "name": "stdout",
     "output_type": "stream",
     "text": [
      "['탑건: 매버릭 (Top Gun: Maverick) 후기와 비하인드', '탑건:매버릭 ( 전투기가 중요한 것이 아니라 파일럿이 중요하다 )-평점8점', '톰 크루즈의 탑건2가 제작될까요!?', '탑건 매버릭...보고 왔습니다(감상이 자꾸 밀려와서 추가가 자꾸 될거 같습니다)', '[탑건:메버릭] 이제 필요없어 질 수 있는 것들에 대한 위로.', '[탑건: 매버릭]을 보고', '탑건: 매버릭', '[미국 영화] 탑건 : 매버릭', '탑건: 매버릭', '[영화]탑건: 매버릭-롯데시네마 월드타워 수퍼플렉스 G관 A열 체험']\n"
     ]
    }
   ],
   "source": [
    "print(title_list)"
   ]
  },
  {
   "cell_type": "code",
   "execution_count": 12,
   "metadata": {},
   "outputs": [
    {
     "name": "stdout",
     "output_type": "stream",
     "text": [
      "['myte****', 'reno****', 'loan****', 'amie****', 'mult****', 'film****', 'them****', 'ford****', 'rome****', 'shoy****']\n"
     ]
    }
   ],
   "source": [
    "print(uid_list)"
   ]
  },
  {
   "cell_type": "code",
   "execution_count": 13,
   "metadata": {},
   "outputs": [
    {
     "name": "stdout",
     "output_type": "stream",
     "text": [
      "['https://movie.naver.com/movie/bi/mi/reviewread.naver?nid=4808692&code=81888&order=#tab', 'https://movie.naver.com/movie/bi/mi/reviewread.naver?nid=4808920&code=81888&order=#tab', 'https://movie.naver.com/movie/bi/mi/reviewread.naver?nid=3985907&code=81888&order=#tab', 'https://movie.naver.com/movie/bi/mi/reviewread.naver?nid=4809027&code=81888&order=#tab', 'https://movie.naver.com/movie/bi/mi/reviewread.naver?nid=4808973&code=81888&order=#tab', 'https://movie.naver.com/movie/bi/mi/reviewread.naver?nid=4809018&code=81888&order=#tab', 'https://movie.naver.com/movie/bi/mi/reviewread.naver?nid=4808959&code=81888&order=#tab', 'https://movie.naver.com/movie/bi/mi/reviewread.naver?nid=4810669&code=81888&order=#tab', 'https://movie.naver.com/movie/bi/mi/reviewread.naver?nid=4811078&code=81888&order=#tab', 'https://movie.naver.com/movie/bi/mi/reviewread.naver?nid=4808844&code=81888&order=#tab']\n"
     ]
    }
   ],
   "source": [
    "print(url_list)"
   ]
  },
  {
   "attachments": {},
   "cell_type": "markdown",
   "metadata": {},
   "source": [
    "### 4) 리뷰 상세 페이지"
   ]
  },
  {
   "cell_type": "code",
   "execution_count": 14,
   "metadata": {},
   "outputs": [
    {
     "name": "stdout",
     "output_type": "stream",
     "text": [
      "\n",
      "\n",
      "\n",
      "\n",
      "탑건: 매버릭\n",
      "\n",
      "감독\n",
      "조셉 코신스키\n",
      "출연\n",
      "톰 크루즈, 제니퍼 코넬리, 마일즈 텔러\n",
      "개봉\n",
      "2022.06.22. 미국\n",
      "평점\n",
      "\n",
      "\n",
      "\n",
      "\n",
      "\n",
      "\n",
      "리뷰보기\n",
      "\n",
      "  이 영화를 2주 전에 봤는데 이래저래 결혼식 준비로 바빠서이제와서 쓰는 [탑건: 매버릭] 후기. 정식 개봉 전 부터 평론단 리뷰가 매우 좋아서 기대를 한껏 했었다.고등학생 때 톰 크루즈 및 다른 헐리우드 배우들을 좋아해서그들의 필모 DVD를 싹 모았었는데80년대 끝자락에 태어난 나로서는80년대 영화가 영 익숙하지가 않았던지라 [탑건, 1986]을 본 적이 없었다.탑건 매버릭을 보러가기 이틀 전에 1986년에 개봉한 탑건을 보았다.탑건을 안봐도 무방하겠지만오프닝부터 대놓고 탑건,1986 오마주 장면들이 많아서제대로 된 탑건 후속편을 감상하고 싶으시다면무조건 탑건을 보고 탑건 매버릭을 감상하시는 것을 강력 추천드린다. 탑건 (1986)은 청춘 영화 그 자체였다.그리고 모두가 동의하겠지만 정말로 톰 크루즈 외모가 미쳤다.80년대 탑건이 유명한 이유가 다름아닌 톰 크루즈의 미모 때문이 아니었나 싶을 정도다.당시 분위기는 어떨지 모르겠으나탑건의 각본은 다른 영화와 비교해 크게 다를 게 없었고80년대 특유의 청춘 영화 분위기가 좋았던 영화다.  동영상[탑건: 매버릭] 메인 예고편하늘에서 펼쳐지는 스펙타클 액션✈톰 크루즈의 항공 액션 블록버스터 '탑건: 매버릭'6월 22일, 극장에서 고공 레이스에 합류하라!#탑건_매버릭 #6...www.youtube.com한국은 6월 22일로 개봉이 미뤄진 대신톰 크루즈와 마일즈 텔러, 그리고 글렌 포웰이 내한 프로모션을 돌기로 하였다고 한다.원래 해외 프로모션이라는 개념이 없었는데이런 개념을 만든 장본인이 바로 톰 크루즈라고 한다.심지어 90년대 당시, 한국은 프로모션 대상 국가가 아니었음에도 불구하고톰 크루즈가 처음으로 영화 프로모션으로 한국에 방문했다고 하니'친절한 톰 아저씨' 닉값 톡톡히 하시는듯.36년 만에 돌아온 탑건 매버릭은 현시대를 잘 반영한 영화다.80년대 인터넷, 컴퓨터도 없던 아날로그 세대가 아닌디지털 시대에 살고 있는 지금,사람이 더이상 전투기를 조종하지 않아도 되는최첨단 무인전투기가 사용되기 시작했다.탑건 매버릭에서도 이와 관련된 주제로 대화를 나누는데조종사는 곧 멸종될 것이라는 대목에서세대가 지나면서 시대 상황도 많이 바뀌어있다는 것을 볼 수 있었고조금은 씁쓸하기도 했다.86년 탑건이 왜 유명했고 성공적이었는지 내가 태어나기 전이라 상황을 잘 모르지만탑건 매버릭이 서구권에서 폭발적인 인기를 얻고있는 이유를 알 것 같다.요즘 영화사에서 프렌차이즈 히어로물 위주로 내놓으니영화관으로 향하는 발길이 한동안 끊겼는데80년대 당시 청년이었던 분들이 이제는 중년, 노년이 되어탑건 속편을 보기위해 다시 영화관을 찾게되었다고 하는 해외 리뷰도 많았다.탑건 매버릭에서 합류하게 된 제니퍼 코넬리와 톰 크루즈의 러브라인은배우 본체 둘 다 50대 초중반, 후반임에도 불구하고35년 전 탑건의 청춘 무드를 그대로 느낄 수 있었다.영화 [위플래쉬] 주연으로 유명한 마일즈 텔러가조셉 코신스키 감독과 다시 한번 호흡을 맞추게 되었다.마일즈 텔러는 조셉 코신스키 감독의 전작인 [온니 더 브레이브]에서 막내 소방관으로 출연했었다.마일즈 텔러는 니콜라스 홀트와 글렌 포웰을 제치고'구스'의 아들인 '루스터' 역할로 캐스팅이 되었다.마일즈 텔러 인터뷰에 따르면 배우들 각자 콜 사인을 골랐다고 한다.마일즈는 극 중 아버지의 콜 사인이 '구스'였어서 '루스터'로 결정했다고.. (눈물 좔좔) '루스터' 역할의 오디션을 봤던 글렌 포웰은현지에서 여성팬들이 꽤나 많기로 유명하다.아쉽게도 '루스터' 배역은 따내지 못했지만'행맨'이라는 또 다른 주요한 역할로 출연하게 되었다. 80년대 당시 알탕이었던해군 조종사 사이에 여성 조종사도 볼 수 있어 좋았다.영화 보기 전에 사전 정보를 깊게 검색하지 않고 가는 편인데탑건 매버릭에서 루이스 풀먼을 보게 되어 반가웠다.최근 [아우터 레인지] 라는 아마존 프라임 시리즈를 재미있게 보았다.아우터 레인지에서는 터프한 카우보이 역할이었는데매버릭에서는 그저 '밥' 그 자체라 비교하는 재미도 있었다.프라임 비디오 신작, 아우터 레인지 (Outer Range) 노스포 영업글프라임 비디오 신작: 초자연 미스테리 스릴러 미국 드라마, 아우터 레인지 -OUTER RANGE <마...blog.naver.com 영화 속에 쓰인 P-51 Mustang 기종은톰 크루즈가 실제로 소유하고 있는 비행기라고 한다.톰 아저씨는 실제로 비행을 조종할 수 있는 파일럿 자격증도 있다고 한다![미션 임파서블 시리즈]에서도 그렇고모든 스턴트 연기를 직접하는 것으로 유명하기에톰 아조시 제발 늙어서 죽길 바랍니다.위에서 말했듯 [탑건]은 청춘 영화에 가까웠다면[탑건: 매버릭]은 프리퀄을 훨씬 뛰어넘은 후속작이었다.그렇기에 많은 사람들이 현재 열광하고 있고,개봉한지 꽤 지났음에도 불구하고 좋은 점수를 유지하고 있다.이 영화를 본 후 내 MOOD\n",
      "\n"
     ]
    }
   ],
   "source": [
    "# 리뷰 상세페이지의 HTML 소스코드를 가져와서 파싱(parsing)\n",
    "resp_text = requests.get(url_list[0])\n",
    "soup_text = BeautifulSoup(resp_text.text, 'html.parser')\n",
    "\n",
    "# 리뷰 본문의 텍스트를 추출합니다. /  <div class=\"user_tx_area\"> )\n",
    "review_text_tag = soup_text.find(name='div', attrs={'class':'user_tx_area'})\n",
    "\n",
    "# 텍스트 부분만 추출합니다.\n",
    "review_text = review_text_tag.get_text()\n",
    "print(review_text)"
   ]
  },
  {
   "attachments": {},
   "cell_type": "markdown",
   "metadata": {},
   "source": [
    "### 5) 10개 리뷰 본문을 모두 수집 -> List로 정리"
   ]
  },
  {
   "cell_type": "code",
   "execution_count": 15,
   "metadata": {},
   "outputs": [
    {
     "name": "stdout",
     "output_type": "stream",
     "text": [
      "10\n"
     ]
    }
   ],
   "source": [
    "import time\n",
    "# url 반복하여 텍스트를 추출하고 리스트에 추가\n",
    "text_list = []\n",
    "\n",
    "for url in url_list:\n",
    "\n",
    "    # 리뷰 상세페이지의 HTML 소스코드를 가져와서 파싱(parsing)\n",
    "    resp_text = requests.get(url)\n",
    "    soup_text = BeautifulSoup(resp_text.text, 'html.parser')\n",
    "\n",
    "    # 리뷰 본문의 텍스트를 추출합니다. /  <div class=\"user_tx_area\"> )\n",
    "    review_text_tag = soup_text.find(name='div', attrs={'class':'user_tx_area'})\n",
    "\n",
    "    # 텍스트 부분만 추출합니다.\n",
    "    review_text = review_text_tag.get_text()\n",
    "    text_list.append(review_text)\n",
    "    \n",
    "    # 대기 시간을 추가합니다. (서버에 과도한 호출이 되지 않도록 유의) \n",
    "    time.sleep(2)\n",
    "    \n",
    "    \n",
    "# 추출된 아이템의 수량\n",
    "print(len(text_list))"
   ]
  },
  {
   "attachments": {},
   "cell_type": "markdown",
   "metadata": {},
   "source": [
    "### 6) 판다스 데이터 프레임으로 정리하고 csv 파일로 저장"
   ]
  },
  {
   "cell_type": "code",
   "execution_count": 16,
   "metadata": {},
   "outputs": [
    {
     "data": {
      "text/html": [
       "<div>\n",
       "<style scoped>\n",
       "    .dataframe tbody tr th:only-of-type {\n",
       "        vertical-align: middle;\n",
       "    }\n",
       "\n",
       "    .dataframe tbody tr th {\n",
       "        vertical-align: top;\n",
       "    }\n",
       "\n",
       "    .dataframe thead th {\n",
       "        text-align: right;\n",
       "    }\n",
       "</style>\n",
       "<table border=\"1\" class=\"dataframe\">\n",
       "  <thead>\n",
       "    <tr style=\"text-align: right;\">\n",
       "      <th></th>\n",
       "      <th>title</th>\n",
       "      <th>user</th>\n",
       "      <th>review</th>\n",
       "    </tr>\n",
       "  </thead>\n",
       "  <tbody>\n",
       "    <tr>\n",
       "      <th>0</th>\n",
       "      <td>탑건: 매버릭 (Top Gun: Maverick) 후기와 비하인드</td>\n",
       "      <td>myte****</td>\n",
       "      <td>\\n\\n\\n\\n탑건: 매버릭\\n\\n감독\\n조셉 코신스키\\n출연\\n톰 크루즈, 제니퍼...</td>\n",
       "    </tr>\n",
       "    <tr>\n",
       "      <th>1</th>\n",
       "      <td>탑건:매버릭 ( 전투기가 중요한 것이 아니라 파일럿이 중요하다 )-평점8점</td>\n",
       "      <td>reno****</td>\n",
       "      <td>\\n\\n\\n\\n탑건: 매버릭\\n\\n감독\\n조셉 코신스키\\n출연\\n톰 크루즈, 제니퍼...</td>\n",
       "    </tr>\n",
       "    <tr>\n",
       "      <th>2</th>\n",
       "      <td>톰 크루즈의 탑건2가 제작될까요!?</td>\n",
       "      <td>loan****</td>\n",
       "      <td>\\n톰 크루즈의 탑건2가 제작될까요!?\\n \\n \\n \\n \\n벌써 50이 훌쩍 넘...</td>\n",
       "    </tr>\n",
       "    <tr>\n",
       "      <th>3</th>\n",
       "      <td>탑건 매버릭...보고 왔습니다(감상이 자꾸 밀려와서 추가가 자꾸 될거 같습니다)</td>\n",
       "      <td>amie****</td>\n",
       "      <td>\\n\\n\\n\\n탑건: 매버릭\\n\\n감독\\n조셉 코신스키\\n출연\\n톰 크루즈, 마일즈...</td>\n",
       "    </tr>\n",
       "    <tr>\n",
       "      <th>4</th>\n",
       "      <td>[탑건:메버릭] 이제 필요없어 질 수 있는 것들에 대한 위로.</td>\n",
       "      <td>mult****</td>\n",
       "      <td>\\n\\n\\n\\n탑건: 매버릭\\n\\n감독\\n조셉 코신스키\\n출연\\n톰 크루즈, 마일즈...</td>\n",
       "    </tr>\n",
       "    <tr>\n",
       "      <th>5</th>\n",
       "      <td>[탑건: 매버릭]을 보고</td>\n",
       "      <td>film****</td>\n",
       "      <td>\\n\\n\\n\\n탑건: 매버릭\\n\\n감독\\n조셉 코신스키\\n출연\\n톰 크루즈, 제니퍼...</td>\n",
       "    </tr>\n",
       "    <tr>\n",
       "      <th>6</th>\n",
       "      <td>탑건: 매버릭</td>\n",
       "      <td>them****</td>\n",
       "      <td>\\n\\n\\n\\n탑건: 매버릭\\n\\n감독\\n조셉 코신스키\\n출연\\n톰 크루즈, 제니퍼...</td>\n",
       "    </tr>\n",
       "    <tr>\n",
       "      <th>7</th>\n",
       "      <td>[미국 영화] 탑건 : 매버릭</td>\n",
       "      <td>ford****</td>\n",
       "      <td>\\n\\n\\n탑건: 매버릭\\n\\n감독\\n조셉 코신스키\\n출연\\n톰 크루즈, 마일즈 텔...</td>\n",
       "    </tr>\n",
       "    <tr>\n",
       "      <th>8</th>\n",
       "      <td>탑건: 매버릭</td>\n",
       "      <td>rome****</td>\n",
       "      <td>\\n영화는 이렇게 만들어야지..쓸데없는 철학도 빼고, 주장도 빼고.간단 명료한 스토...</td>\n",
       "    </tr>\n",
       "    <tr>\n",
       "      <th>9</th>\n",
       "      <td>[영화]탑건: 매버릭-롯데시네마 월드타워 수퍼플렉스 G관 A열 체험</td>\n",
       "      <td>shoy****</td>\n",
       "      <td>\\n\\n\\n\\n탑건: 매버릭\\n\\n감독\\n조셉 코신스키\\n출연\\n톰 크루즈, 제니퍼...</td>\n",
       "    </tr>\n",
       "  </tbody>\n",
       "</table>\n",
       "</div>"
      ],
      "text/plain": [
       "                                          title      user  \\\n",
       "0          탑건: 매버릭 (Top Gun: Maverick) 후기와 비하인드  myte****   \n",
       "1     탑건:매버릭 ( 전투기가 중요한 것이 아니라 파일럿이 중요하다 )-평점8점  reno****   \n",
       "2                           톰 크루즈의 탑건2가 제작될까요!?  loan****   \n",
       "3  탑건 매버릭...보고 왔습니다(감상이 자꾸 밀려와서 추가가 자꾸 될거 같습니다)  amie****   \n",
       "4            [탑건:메버릭] 이제 필요없어 질 수 있는 것들에 대한 위로.  mult****   \n",
       "5                                 [탑건: 매버릭]을 보고  film****   \n",
       "6                                       탑건: 매버릭  them****   \n",
       "7                              [미국 영화] 탑건 : 매버릭  ford****   \n",
       "8                                       탑건: 매버릭  rome****   \n",
       "9         [영화]탑건: 매버릭-롯데시네마 월드타워 수퍼플렉스 G관 A열 체험  shoy****   \n",
       "\n",
       "                                              review  \n",
       "0  \\n\\n\\n\\n탑건: 매버릭\\n\\n감독\\n조셉 코신스키\\n출연\\n톰 크루즈, 제니퍼...  \n",
       "1  \\n\\n\\n\\n탑건: 매버릭\\n\\n감독\\n조셉 코신스키\\n출연\\n톰 크루즈, 제니퍼...  \n",
       "2  \\n톰 크루즈의 탑건2가 제작될까요!?\\n \\n \\n \\n \\n벌써 50이 훌쩍 넘...  \n",
       "3  \\n\\n\\n\\n탑건: 매버릭\\n\\n감독\\n조셉 코신스키\\n출연\\n톰 크루즈, 마일즈...  \n",
       "4  \\n\\n\\n\\n탑건: 매버릭\\n\\n감독\\n조셉 코신스키\\n출연\\n톰 크루즈, 마일즈...  \n",
       "5  \\n\\n\\n\\n탑건: 매버릭\\n\\n감독\\n조셉 코신스키\\n출연\\n톰 크루즈, 제니퍼...  \n",
       "6  \\n\\n\\n\\n탑건: 매버릭\\n\\n감독\\n조셉 코신스키\\n출연\\n톰 크루즈, 제니퍼...  \n",
       "7  \\n\\n\\n탑건: 매버릭\\n\\n감독\\n조셉 코신스키\\n출연\\n톰 크루즈, 마일즈 텔...  \n",
       "8  \\n영화는 이렇게 만들어야지..쓸데없는 철학도 빼고, 주장도 빼고.간단 명료한 스토...  \n",
       "9  \\n\\n\\n\\n탑건: 매버릭\\n\\n감독\\n조셉 코신스키\\n출연\\n톰 크루즈, 제니퍼...  "
      ]
     },
     "execution_count": 16,
     "metadata": {},
     "output_type": "execute_result"
    }
   ],
   "source": [
    "# 딕셔너리 형식으로 항목별 리스트를 원소로 추가 \n",
    "dict_data = {\n",
    "    'title' : title_list,\n",
    "    'user' : uid_list,\n",
    "    'review' : text_list   \n",
    "}\n",
    "\n",
    "# 판다스 데이터프레임으로 변환\n",
    "import pandas as pd\n",
    "\n",
    "df_data = pd.DataFrame(dict_data)\n",
    "\n",
    "# 변환 결과를 확인\n",
    "df_data"
   ]
  },
  {
   "cell_type": "code",
   "execution_count": 17,
   "metadata": {},
   "outputs": [],
   "source": [
    "# CSV 파일로 저장\n",
    "df_data.to_csv(\"naver_review.csv\")"
   ]
  }
 ],
 "metadata": {
  "kernelspec": {
   "display_name": "Python 3",
   "language": "python",
   "name": "python3"
  },
  "language_info": {
   "codemirror_mode": {
    "name": "ipython",
    "version": 3
   },
   "file_extension": ".py",
   "mimetype": "text/x-python",
   "name": "python",
   "nbconvert_exporter": "python",
   "pygments_lexer": "ipython3",
   "version": "3.9.12 (main, May  8 2022, 18:05:47) \n[Clang 13.1.6 (clang-1316.0.21.2)]"
  },
  "orig_nbformat": 4,
  "vscode": {
   "interpreter": {
    "hash": "397704579725e15f5c7cb49fe5f0341eb7531c82d19f2c29d197e8b64ab5776b"
   }
  }
 },
 "nbformat": 4,
 "nbformat_minor": 2
}
